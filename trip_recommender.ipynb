{
 "cells": [
  {
   "cell_type": "markdown",
   "id": "3bf4c777",
   "metadata": {},
   "source": [
    "#### Load Libraries"
   ]
  },
  {
   "cell_type": "code",
   "execution_count": 1,
   "id": "7553720a",
   "metadata": {},
   "outputs": [],
   "source": [
    "import torch\n",
    "import torch.nn as nn\n",
    "import torch.nn.functional as F\n",
    "from torch.utils.data import Dataset, DataLoader\n",
    "from sklearn.utils import shuffle\n",
    "from sklearn.model_selection import train_test_split\n",
    "from sklearn.preprocessing import StandardScaler\n",
    "\n",
    "import random\n",
    "import pandas as pd\n",
    "import numpy as np\n",
    "import pickle"
   ]
  },
  {
   "cell_type": "code",
   "execution_count": 2,
   "id": "027b57e2",
   "metadata": {
    "scrolled": true
   },
   "outputs": [
    {
     "data": {
      "text/html": [
       "<div>\n",
       "<style scoped>\n",
       "    .dataframe tbody tr th:only-of-type {\n",
       "        vertical-align: middle;\n",
       "    }\n",
       "\n",
       "    .dataframe tbody tr th {\n",
       "        vertical-align: top;\n",
       "    }\n",
       "\n",
       "    .dataframe thead th {\n",
       "        text-align: right;\n",
       "    }\n",
       "</style>\n",
       "<table border=\"1\" class=\"dataframe\">\n",
       "  <thead>\n",
       "    <tr style=\"text-align: right;\">\n",
       "      <th></th>\n",
       "      <th>user_id</th>\n",
       "      <th>item_id</th>\n",
       "      <th>context_feature_id</th>\n",
       "    </tr>\n",
       "  </thead>\n",
       "  <tbody>\n",
       "    <tr>\n",
       "      <th>0</th>\n",
       "      <td>0</td>\n",
       "      <td>28366</td>\n",
       "      <td>2</td>\n",
       "    </tr>\n",
       "    <tr>\n",
       "      <th>1</th>\n",
       "      <td>0</td>\n",
       "      <td>16109</td>\n",
       "      <td>2</td>\n",
       "    </tr>\n",
       "    <tr>\n",
       "      <th>2</th>\n",
       "      <td>0</td>\n",
       "      <td>11500</td>\n",
       "      <td>3</td>\n",
       "    </tr>\n",
       "    <tr>\n",
       "      <th>3</th>\n",
       "      <td>0</td>\n",
       "      <td>20750</td>\n",
       "      <td>2</td>\n",
       "    </tr>\n",
       "    <tr>\n",
       "      <th>4</th>\n",
       "      <td>0</td>\n",
       "      <td>8759</td>\n",
       "      <td>2</td>\n",
       "    </tr>\n",
       "  </tbody>\n",
       "</table>\n",
       "</div>"
      ],
      "text/plain": [
       "   user_id  item_id  context_feature_id\n",
       "0        0    28366                   2\n",
       "1        0    16109                   2\n",
       "2        0    11500                   3\n",
       "3        0    20750                   2\n",
       "4        0     8759                   2"
      ]
     },
     "execution_count": 2,
     "metadata": {},
     "output_type": "execute_result"
    }
   ],
   "source": [
    "df = pd.read_csv('training.csv')\n",
    "item = pd.read_csv('item_feature.csv')\n",
    "df.head()"
   ]
  },
  {
   "cell_type": "markdown",
   "id": "967cee7c",
   "metadata": {},
   "source": [
    "#### Get frequency of context feature id categories"
   ]
  },
  {
   "cell_type": "code",
   "execution_count": 59,
   "id": "ec6afd47",
   "metadata": {},
   "outputs": [
    {
     "data": {
      "text/plain": [
       "2    485857\n",
       "1    270187\n",
       "3    145267\n",
       "0     68934\n",
       "Name: context_feature_id, dtype: int64"
      ]
     },
     "execution_count": 59,
     "metadata": {},
     "output_type": "execute_result"
    }
   ],
   "source": [
    "df.context_feature_id.value_counts()"
   ]
  },
  {
   "cell_type": "markdown",
   "id": "7a4eef89",
   "metadata": {},
   "source": [
    "#### Assign rating label 1 to users who interacted with the item"
   ]
  },
  {
   "cell_type": "code",
   "execution_count": 60,
   "id": "ec6d00de",
   "metadata": {
    "scrolled": true
   },
   "outputs": [
    {
     "data": {
      "text/html": [
       "<div>\n",
       "<style scoped>\n",
       "    .dataframe tbody tr th:only-of-type {\n",
       "        vertical-align: middle;\n",
       "    }\n",
       "\n",
       "    .dataframe tbody tr th {\n",
       "        vertical-align: top;\n",
       "    }\n",
       "\n",
       "    .dataframe thead th {\n",
       "        text-align: right;\n",
       "    }\n",
       "</style>\n",
       "<table border=\"1\" class=\"dataframe\">\n",
       "  <thead>\n",
       "    <tr style=\"text-align: right;\">\n",
       "      <th></th>\n",
       "      <th>user_id</th>\n",
       "      <th>item_id</th>\n",
       "      <th>context_feature_id</th>\n",
       "      <th>rating</th>\n",
       "    </tr>\n",
       "  </thead>\n",
       "  <tbody>\n",
       "    <tr>\n",
       "      <th>0</th>\n",
       "      <td>0</td>\n",
       "      <td>28366</td>\n",
       "      <td>2</td>\n",
       "      <td>1</td>\n",
       "    </tr>\n",
       "    <tr>\n",
       "      <th>1</th>\n",
       "      <td>0</td>\n",
       "      <td>16109</td>\n",
       "      <td>2</td>\n",
       "      <td>1</td>\n",
       "    </tr>\n",
       "    <tr>\n",
       "      <th>2</th>\n",
       "      <td>0</td>\n",
       "      <td>11500</td>\n",
       "      <td>3</td>\n",
       "      <td>1</td>\n",
       "    </tr>\n",
       "    <tr>\n",
       "      <th>3</th>\n",
       "      <td>0</td>\n",
       "      <td>20750</td>\n",
       "      <td>2</td>\n",
       "      <td>1</td>\n",
       "    </tr>\n",
       "    <tr>\n",
       "      <th>4</th>\n",
       "      <td>0</td>\n",
       "      <td>8759</td>\n",
       "      <td>2</td>\n",
       "      <td>1</td>\n",
       "    </tr>\n",
       "  </tbody>\n",
       "</table>\n",
       "</div>"
      ],
      "text/plain": [
       "   user_id  item_id  context_feature_id  rating\n",
       "0        0    28366                   2       1\n",
       "1        0    16109                   2       1\n",
       "2        0    11500                   3       1\n",
       "3        0    20750                   2       1\n",
       "4        0     8759                   2       1"
      ]
     },
     "execution_count": 60,
     "metadata": {},
     "output_type": "execute_result"
    }
   ],
   "source": [
    "df['rating'] = 1\n",
    "df.head()"
   ]
  },
  {
   "cell_type": "markdown",
   "id": "b11ae871",
   "metadata": {},
   "source": [
    "#### User oriented negative sampling "
   ]
  },
  {
   "cell_type": "code",
   "execution_count": 62,
   "id": "ec14a35f",
   "metadata": {},
   "outputs": [],
   "source": [
    "unique_users = df.user_id.unique()\n",
    "unique_items = df.item_id.unique()\n",
    "d = {}\n",
    "for i in unique_users:\n",
    "    user_rated_items = np.array(df[df['user_id']==i]['item_id'])\n",
    "    n_items = len(user_rated_items)\n",
    "    unrated_items = np.setdiff1d(unique_items,user_rated_items)\n",
    "    select_unrated_items = np.random.choice(unrated_items,size = n_items*2, replace=False)\n",
    "    d[i] = select_unrated_items\n",
    "\n",
    "output = pd.DataFrame([d]).transpose()\n",
    "output.insert(0, column=\"user_id\",value = output.index)\n",
    "# run and save to pickle\n",
    "\n"
   ]
  },
  {
   "cell_type": "markdown",
   "id": "40967bc2",
   "metadata": {},
   "source": [
    "#### Assing rating label 0"
   ]
  },
  {
   "cell_type": "code",
   "execution_count": 63,
   "id": "ad2fcd6d",
   "metadata": {},
   "outputs": [],
   "source": [
    "output.columns = ['user_id','item_id']\n",
    "output = output.explode('item_id')\n",
    "output.reset_index(drop=True, inplace=True)\n",
    "output['rating'] = 0"
   ]
  },
  {
   "cell_type": "code",
   "execution_count": 64,
   "id": "5bf435a6",
   "metadata": {
    "scrolled": true
   },
   "outputs": [
    {
     "data": {
      "text/html": [
       "<div>\n",
       "<style scoped>\n",
       "    .dataframe tbody tr th:only-of-type {\n",
       "        vertical-align: middle;\n",
       "    }\n",
       "\n",
       "    .dataframe tbody tr th {\n",
       "        vertical-align: top;\n",
       "    }\n",
       "\n",
       "    .dataframe thead th {\n",
       "        text-align: right;\n",
       "    }\n",
       "</style>\n",
       "<table border=\"1\" class=\"dataframe\">\n",
       "  <thead>\n",
       "    <tr style=\"text-align: right;\">\n",
       "      <th></th>\n",
       "      <th>user_id</th>\n",
       "      <th>item_id</th>\n",
       "      <th>rating</th>\n",
       "      <th>context_feature_id</th>\n",
       "    </tr>\n",
       "  </thead>\n",
       "  <tbody>\n",
       "    <tr>\n",
       "      <th>0</th>\n",
       "      <td>0</td>\n",
       "      <td>32116</td>\n",
       "      <td>0</td>\n",
       "      <td>4</td>\n",
       "    </tr>\n",
       "    <tr>\n",
       "      <th>1</th>\n",
       "      <td>0</td>\n",
       "      <td>15182</td>\n",
       "      <td>0</td>\n",
       "      <td>4</td>\n",
       "    </tr>\n",
       "    <tr>\n",
       "      <th>2</th>\n",
       "      <td>0</td>\n",
       "      <td>37133</td>\n",
       "      <td>0</td>\n",
       "      <td>4</td>\n",
       "    </tr>\n",
       "    <tr>\n",
       "      <th>3</th>\n",
       "      <td>0</td>\n",
       "      <td>4940</td>\n",
       "      <td>0</td>\n",
       "      <td>4</td>\n",
       "    </tr>\n",
       "    <tr>\n",
       "      <th>4</th>\n",
       "      <td>0</td>\n",
       "      <td>21859</td>\n",
       "      <td>0</td>\n",
       "      <td>4</td>\n",
       "    </tr>\n",
       "    <tr>\n",
       "      <th>...</th>\n",
       "      <td>...</td>\n",
       "      <td>...</td>\n",
       "      <td>...</td>\n",
       "      <td>...</td>\n",
       "    </tr>\n",
       "    <tr>\n",
       "      <th>1940485</th>\n",
       "      <td>200152</td>\n",
       "      <td>17833</td>\n",
       "      <td>0</td>\n",
       "      <td>4</td>\n",
       "    </tr>\n",
       "    <tr>\n",
       "      <th>1940486</th>\n",
       "      <td>200152</td>\n",
       "      <td>32288</td>\n",
       "      <td>0</td>\n",
       "      <td>4</td>\n",
       "    </tr>\n",
       "    <tr>\n",
       "      <th>1940487</th>\n",
       "      <td>200152</td>\n",
       "      <td>30511</td>\n",
       "      <td>0</td>\n",
       "      <td>4</td>\n",
       "    </tr>\n",
       "    <tr>\n",
       "      <th>1940488</th>\n",
       "      <td>200152</td>\n",
       "      <td>9574</td>\n",
       "      <td>0</td>\n",
       "      <td>4</td>\n",
       "    </tr>\n",
       "    <tr>\n",
       "      <th>1940489</th>\n",
       "      <td>200152</td>\n",
       "      <td>14648</td>\n",
       "      <td>0</td>\n",
       "      <td>4</td>\n",
       "    </tr>\n",
       "  </tbody>\n",
       "</table>\n",
       "<p>1940490 rows × 4 columns</p>\n",
       "</div>"
      ],
      "text/plain": [
       "         user_id item_id  rating  context_feature_id\n",
       "0              0   32116       0                   4\n",
       "1              0   15182       0                   4\n",
       "2              0   37133       0                   4\n",
       "3              0    4940       0                   4\n",
       "4              0   21859       0                   4\n",
       "...          ...     ...     ...                 ...\n",
       "1940485   200152   17833       0                   4\n",
       "1940486   200152   32288       0                   4\n",
       "1940487   200152   30511       0                   4\n",
       "1940488   200152    9574       0                   4\n",
       "1940489   200152   14648       0                   4\n",
       "\n",
       "[1940490 rows x 4 columns]"
      ]
     },
     "execution_count": 64,
     "metadata": {},
     "output_type": "execute_result"
    }
   ],
   "source": [
    "output['context_feature_id'] = 4\n",
    "output"
   ]
  },
  {
   "cell_type": "markdown",
   "id": "a2ce94c2",
   "metadata": {},
   "source": [
    "#### Concatenate the two dataframes"
   ]
  },
  {
   "cell_type": "code",
   "execution_count": 65,
   "id": "8c82d4ca",
   "metadata": {},
   "outputs": [],
   "source": [
    "#join datatset to create pd\n",
    "sampled_df = pd.concat([df,output]).reset_index(drop=True)"
   ]
  },
  {
   "cell_type": "code",
   "execution_count": 68,
   "id": "b0323bb3",
   "metadata": {},
   "outputs": [],
   "source": [
    "merged_df = sampled_df.merge(item,how = 'left')\n",
    "data = merged_df"
   ]
  },
  {
   "cell_type": "code",
   "execution_count": 110,
   "id": "14494cc3",
   "metadata": {},
   "outputs": [
    {
     "data": {
      "text/plain": [
       "0    970245\n",
       "1    970245\n",
       "Name: rating, dtype: int64"
      ]
     },
     "execution_count": 110,
     "metadata": {},
     "output_type": "execute_result"
    }
   ],
   "source": [
    "data.rating.value_counts()"
   ]
  },
  {
   "cell_type": "markdown",
   "id": "7f433108",
   "metadata": {},
   "source": [
    "#### Store the dataframe in a pickle file"
   ]
  },
  {
   "cell_type": "code",
   "execution_count": 63,
   "id": "8b980c28",
   "metadata": {},
   "outputs": [],
   "source": [
    "# store data\n",
    "f = open(\"features_data.pkl\",\"wb\")\n",
    "\n",
    "# # write the python object (dict) to pickle file\n",
    "pickle.dump(data,f)\n",
    "\n",
    "# # close file\n",
    "f.close()"
   ]
  },
  {
   "cell_type": "code",
   "execution_count": 3,
   "id": "b50e4465",
   "metadata": {},
   "outputs": [],
   "source": [
    "# bring pickle data in\n",
    "with open('features_data.pkl', 'rb') as f:\n",
    "    data = pickle.load(f)"
   ]
  },
  {
   "cell_type": "markdown",
   "id": "44c3c9de",
   "metadata": {},
   "source": [
    "#### Change column data types"
   ]
  },
  {
   "cell_type": "code",
   "execution_count": 69,
   "id": "d5dc6419",
   "metadata": {},
   "outputs": [],
   "source": [
    "for i in data.columns:\n",
    "    data[i] = data[i].astype('int64')"
   ]
  },
  {
   "cell_type": "code",
   "execution_count": 70,
   "id": "16f8895b",
   "metadata": {},
   "outputs": [],
   "source": [
    "x_train, x_val = train_test_split(data, test_size=0.3)"
   ]
  },
  {
   "cell_type": "code",
   "execution_count": 6,
   "id": "5e07d2a1",
   "metadata": {},
   "outputs": [],
   "source": [
    "from torch.utils.data import Dataset, DataLoader"
   ]
  },
  {
   "cell_type": "markdown",
   "id": "897c6008",
   "metadata": {},
   "source": [
    "#### Define the model architecture"
   ]
  },
  {
   "cell_type": "code",
   "execution_count": 71,
   "id": "1266cde7",
   "metadata": {},
   "outputs": [],
   "source": [
    "class model(nn.Module):\n",
    "    def __init__(self, num_users, num_items, num_feature_id, emb_size=100, lin_neuron=20):\n",
    "        # deleted context\n",
    "        super(model, self).__init__()\n",
    "        self.user_emb = nn.Embedding(num_users, emb_size)\n",
    "        self.item_emb = nn.Embedding(num_items, emb_size)\n",
    "        self.feature_emb = nn.Embedding(num_feature_id, emb_size)\n",
    "        self.linear1 = nn.Linear(emb_size*3, lin_neuron)\n",
    "        self.linear2 = nn.Linear(lin_neuron, 1)\n",
    "        ## increased dropouts\n",
    "        self.drop1 = nn.Dropout(0.3)\n",
    "        self.drop2 = nn.Dropout(0.0)\n",
    "        self.dense_bn = nn.BatchNorm1d(lin_neuron)\n",
    "        \n",
    "    def forward(self, user, item, feature):\n",
    "        u = self.user_emb(user)\n",
    "        i = self.item_emb(item)\n",
    "        f = self.feature_emb(feature)\n",
    "        \n",
    "        x = torch.cat([u,i,f],dim=1) \n",
    "        x = self.drop1(x)\n",
    "        x = F.relu(self.dense_bn(self.linear1(x)))\n",
    "        x = self.drop2(x)\n",
    "        x = self.linear2(x)\n",
    "        return x"
   ]
  },
  {
   "cell_type": "markdown",
   "id": "d5af86f5",
   "metadata": {},
   "source": [
    "#### Function to compute Validation Metrics"
   ]
  },
  {
   "cell_type": "code",
   "execution_count": 72,
   "id": "cbcd055f",
   "metadata": {},
   "outputs": [],
   "source": [
    "def valid_metrics(model, valid_df):\n",
    "    \"\"\"Computes validation loss and accuracy\"\"\"\n",
    "    model.eval()\n",
    "    u = torch.LongTensor(valid_df.user_id.values)\n",
    "    i = torch.LongTensor(valid_df.item_id.values)\n",
    "    f = torch.LongTensor(valid_df.item_feature_id.values)\n",
    "    y = torch.FloatTensor(valid_df.rating.values).unsqueeze(1)\n",
    "\n",
    "    y_hat = model(u,i,f) #deleted c\n",
    "    valid_loss = F.binary_cross_entropy_with_logits(y_hat,y)\n",
    "    \n",
    "    return valid_loss.item()"
   ]
  },
  {
   "cell_type": "markdown",
   "id": "54da3cca",
   "metadata": {},
   "source": [
    "#### Training Method"
   ]
  },
  {
   "cell_type": "code",
   "execution_count": 73,
   "id": "58b9a8a9",
   "metadata": {},
   "outputs": [],
   "source": [
    "def train(model, train_df, valid_df, epochs = 20, lr=0.01, wd= 0.0):\n",
    "    optimizer = torch.optim.Adam(model.parameters(), lr= lr, weight_decay= wd)\n",
    "    for i in range(epochs):\n",
    "        model.train()\n",
    "\n",
    "        u = torch.LongTensor(train_df.user_id.values)\n",
    "        i = torch.LongTensor(train_df.item_id.values)\n",
    "        f = torch.LongTensor(train_df.item_feature_id.values)\n",
    "        y = torch.FloatTensor(train_df.rating.values).unsqueeze(1)\n",
    "        \n",
    "        y_hat = model(u,i,f) #deleted c\n",
    "        train_loss = F.binary_cross_entropy_with_logits(y_hat,y)\n",
    "        optimizer.zero_grad()\n",
    "        train_loss.backward()\n",
    "        optimizer.step()\n",
    "        \n",
    "        valid_loss = valid_metrics(model, valid_df)\n",
    "        print(\"train loss %.3f valid loss %.3f\" % (train_loss.item(), valid_loss)) "
   ]
  },
  {
   "cell_type": "markdown",
   "id": "05808d88",
   "metadata": {},
   "source": [
    "#### Intitalize num_users, num_items, num_feature"
   ]
  },
  {
   "cell_type": "code",
   "execution_count": 74,
   "id": "58b0be21",
   "metadata": {},
   "outputs": [],
   "source": [
    "num_users = max(x_train.user_id.values+1)\n",
    "num_items = max(x_train.item_id.values+1)\n",
    "num_feature = max(x_train.item_feature_id.values+1)"
   ]
  },
  {
   "cell_type": "code",
   "execution_count": 75,
   "id": "c0807ec7",
   "metadata": {},
   "outputs": [
    {
     "name": "stdout",
     "output_type": "stream",
     "text": [
      "train loss 0.731 valid loss 1.318\n",
      "train loss 1.198 valid loss 1.216\n",
      "train loss 0.833 valid loss 0.740\n",
      "train loss 0.618 valid loss 0.655\n",
      "train loss 0.679 valid loss 0.805\n",
      "train loss 0.734 valid loss 0.653\n",
      "train loss 0.672 valid loss 0.558\n",
      "train loss 0.611 valid loss 0.555\n",
      "train loss 0.579 valid loss 0.568\n",
      "train loss 0.561 valid loss 0.565\n"
     ]
    }
   ],
   "source": [
    "# emb_size = 40, neuron = 80 for 10 epochs, lr = 0.01, wd = 0.00001\n",
    "emb_model = model(num_users, num_items, num_feature, emb_size = 30, lin_neuron= 80)\n",
    "train(emb_model, x_train, x_val, epochs=10, lr=.1, wd=1e-5)"
   ]
  },
  {
   "cell_type": "code",
   "execution_count": 76,
   "id": "1b5051c8",
   "metadata": {},
   "outputs": [
    {
     "name": "stdout",
     "output_type": "stream",
     "text": [
      "train loss 0.546 valid loss 0.462\n",
      "train loss 0.482 valid loss 0.366\n",
      "train loss 0.389 valid loss 0.385\n",
      "train loss 0.348 valid loss 0.464\n",
      "train loss 0.332 valid loss 0.470\n",
      "train loss 0.320 valid loss 0.431\n",
      "train loss 0.315 valid loss 0.396\n",
      "train loss 0.314 valid loss 0.376\n",
      "train loss 0.314 valid loss 0.368\n",
      "train loss 0.310 valid loss 0.365\n"
     ]
    }
   ],
   "source": [
    "train(emb_model, x_train, x_val, epochs=10, lr=.1, wd=1e-5)"
   ]
  },
  {
   "cell_type": "code",
   "execution_count": 77,
   "id": "3e0f0960",
   "metadata": {},
   "outputs": [
    {
     "name": "stdout",
     "output_type": "stream",
     "text": [
      "train loss 0.307 valid loss 0.346\n",
      "train loss 0.303 valid loss 0.338\n",
      "train loss 0.301 valid loss 0.333\n",
      "train loss 0.300 valid loss 0.326\n",
      "train loss 0.299 valid loss 0.320\n"
     ]
    }
   ],
   "source": [
    "train(emb_model, x_train, x_val, epochs=5, lr=.01, wd=1e-5)"
   ]
  },
  {
   "cell_type": "code",
   "execution_count": 78,
   "id": "faa1b2ee",
   "metadata": {},
   "outputs": [
    {
     "name": "stdout",
     "output_type": "stream",
     "text": [
      "train loss 0.298 valid loss 0.313\n",
      "train loss 0.298 valid loss 0.313\n",
      "train loss 0.297 valid loss 0.311\n",
      "train loss 0.297 valid loss 0.309\n",
      "train loss 0.296 valid loss 0.306\n"
     ]
    }
   ],
   "source": [
    "train(emb_model, x_train, x_val, epochs=5, lr=.01, wd=1e-5)"
   ]
  },
  {
   "cell_type": "code",
   "execution_count": 79,
   "id": "3cb182ad",
   "metadata": {},
   "outputs": [
    {
     "name": "stdout",
     "output_type": "stream",
     "text": [
      "train loss 0.295 valid loss 0.305\n",
      "train loss 0.295 valid loss 0.304\n",
      "train loss 0.294 valid loss 0.304\n",
      "train loss 0.293 valid loss 0.303\n",
      "train loss 0.292 valid loss 0.302\n"
     ]
    }
   ],
   "source": [
    "train(emb_model, x_train, x_val, epochs=5, lr=.01, wd=1e-5)"
   ]
  },
  {
   "cell_type": "code",
   "execution_count": 80,
   "id": "5bae5c58",
   "metadata": {},
   "outputs": [
    {
     "name": "stdout",
     "output_type": "stream",
     "text": [
      "train loss 0.291 valid loss 0.303\n",
      "train loss 0.290 valid loss 0.302\n",
      "train loss 0.288 valid loss 0.302\n",
      "train loss 0.286 valid loss 0.302\n",
      "train loss 0.284 valid loss 0.302\n"
     ]
    }
   ],
   "source": [
    "train(emb_model, x_train, x_val, epochs=5, lr=.01, wd=1e-5)"
   ]
  },
  {
   "cell_type": "code",
   "execution_count": 190,
   "id": "d18ef178",
   "metadata": {},
   "outputs": [
    {
     "name": "stdout",
     "output_type": "stream",
     "text": [
      "train loss 0.777 valid loss 0.518\n",
      "train loss 0.456 valid loss 0.364\n",
      "train loss 0.291 valid loss 0.248\n",
      "train loss 0.194 valid loss 0.163\n",
      "train loss 0.133 valid loss 0.104\n",
      "train loss 0.093 valid loss 0.064\n",
      "train loss 0.066 valid loss 0.039\n",
      "train loss 0.047 valid loss 0.024\n",
      "train loss 0.035 valid loss 0.015\n",
      "train loss 0.026 valid loss 0.009\n"
     ]
    }
   ],
   "source": [
    "# emb_size = 40, neuron = 80 for 10 epochs, lr = 0.01, wd = 0.00001\n",
    "emb_model = model(num_users, num_items, num_context, num_feature,\n",
    "                    emb_size = 40, lin_neuron= 80)\n",
    "train(emb_model, x_train, x_val, epochs=10, lr=.01, wd=1e-5)"
   ]
  },
  {
   "cell_type": "code",
   "execution_count": 185,
   "id": "fe178e9d",
   "metadata": {},
   "outputs": [
    {
     "name": "stdout",
     "output_type": "stream",
     "text": [
      "train loss 0.231 valid loss 0.059\n",
      "train loss 0.202 valid loss 0.043\n",
      "train loss 0.178 valid loss 0.030\n",
      "train loss 0.159 valid loss 0.020\n",
      "train loss 0.144 valid loss 0.013\n",
      "train loss 0.132 valid loss 0.008\n",
      "train loss 0.121 valid loss 0.005\n",
      "train loss 0.112 valid loss 0.004\n",
      "train loss 0.105 valid loss 0.002\n",
      "train loss 0.099 valid loss 0.002\n"
     ]
    }
   ],
   "source": [
    "train(emb_model, x_train, x_val, epochs=10, lr=.01, wd=0)"
   ]
  },
  {
   "cell_type": "code",
   "execution_count": 64,
   "id": "1444aabf",
   "metadata": {},
   "outputs": [
    {
     "name": "stdout",
     "output_type": "stream",
     "text": [
      "train loss 0.667 valid loss 0.365\n",
      "train loss 0.232 valid loss 0.094\n",
      "train loss 0.014 valid loss 0.007\n",
      "train loss 0.000 valid loss 0.001\n",
      "train loss 0.000 valid loss 0.000\n"
     ]
    }
   ],
   "source": [
    "# higher learning rate\n",
    "emb_model = model(num_users, num_items, num_context, num_feature,\n",
    "                    emb_size = 20, lin_neuron= 50)\n",
    "train(emb_model, train_dl, valid_dl, epochs=5, lr=0.1, wd=1e-5)"
   ]
  },
  {
   "cell_type": "code",
   "execution_count": 81,
   "id": "49d46dea",
   "metadata": {},
   "outputs": [],
   "source": [
    "torch.save(emb_model.state_dict(), 'models/nn_emb_new_neg_sample.pth')"
   ]
  },
  {
   "cell_type": "code",
   "execution_count": 82,
   "id": "373995f3",
   "metadata": {},
   "outputs": [],
   "source": [
    "test = pd.read_csv('test_kaggle.csv')"
   ]
  },
  {
   "cell_type": "code",
   "execution_count": 83,
   "id": "7654c2b2",
   "metadata": {},
   "outputs": [],
   "source": [
    "test_merged = test.merge(item,how = 'left')"
   ]
  },
  {
   "cell_type": "markdown",
   "id": "8683a269",
   "metadata": {},
   "source": [
    "#### Prediction"
   ]
  },
  {
   "cell_type": "code",
   "execution_count": 84,
   "id": "22981159",
   "metadata": {},
   "outputs": [],
   "source": [
    "test_users = torch.LongTensor(test_merged.user_id.values)\n",
    "test_items = torch.LongTensor(test_merged.item_id.values) \n",
    "test_context = torch.LongTensor(test_merged.context_feature_id.values)\n",
    "test_feature = torch.LongTensor(test_merged.item_feature_id.values)\n",
    "y_hat = emb_model(test_users, test_items, test_feature)"
   ]
  },
  {
   "cell_type": "code",
   "execution_count": 88,
   "id": "233e8a46",
   "metadata": {},
   "outputs": [
    {
     "data": {
      "text/plain": [
       "(tensor(0.9979, grad_fn=<MaxBackward1>),\n",
       " tensor(0.0009, grad_fn=<MinBackward1>))"
      ]
     },
     "execution_count": 88,
     "metadata": {},
     "output_type": "execute_result"
    }
   ],
   "source": [
    "torch.max(torch.sigmoid(y_hat)),torch.min(torch.sigmoid(y_hat))"
   ]
  },
  {
   "cell_type": "code",
   "execution_count": 86,
   "id": "194fa9d5",
   "metadata": {},
   "outputs": [],
   "source": [
    "test['rating'] = torch.sigmoid(y_hat).detach().numpy()\n",
    "submission_df = test[['id','rating']].copy()\n",
    "submission_df.to_csv('nn_emb_new_sample.csv', index=False)"
   ]
  }
 ],
 "metadata": {
  "kernelspec": {
   "display_name": "Python 3 (ipykernel)",
   "language": "python",
   "name": "python3"
  },
  "language_info": {
   "codemirror_mode": {
    "name": "ipython",
    "version": 3
   },
   "file_extension": ".py",
   "mimetype": "text/x-python",
   "name": "python",
   "nbconvert_exporter": "python",
   "pygments_lexer": "ipython3",
   "version": "3.8.8"
  },
  "toc": {
   "base_numbering": 1,
   "nav_menu": {},
   "number_sections": false,
   "sideBar": true,
   "skip_h1_title": false,
   "title_cell": "Table of Contents",
   "title_sidebar": "Contents",
   "toc_cell": false,
   "toc_position": {},
   "toc_section_display": true,
   "toc_window_display": false
  }
 },
 "nbformat": 4,
 "nbformat_minor": 5
}
